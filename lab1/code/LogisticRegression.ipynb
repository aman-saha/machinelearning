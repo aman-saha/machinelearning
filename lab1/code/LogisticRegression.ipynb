{
 "cells": [
  {
   "cell_type": "markdown",
   "metadata": {},
   "source": [
    "#### import numpy as np\n",
    "import pandas as pd\n",
    "from sklearn.cross_validation import train_test_split\n",
    "from sklearn.preprocessing import StandardScaler\n",
    "from sklearn.tree import DecisionTreeClassifier\n",
    "from sklearn.linear_model import LogisticRegression\n",
    "from mlxtend.plotting import plot_decision_regions\n",
    "from sklearn.metrics import accuracy_score\n",
    "from sklearn import tree\n",
    "\n",
    "heart_data = pd.read_csv(\"heart_data.csv\")\n"
   ]
  },
  {
   "cell_type": "code",
   "execution_count": 4,
   "metadata": {},
   "outputs": [
    {
     "data": {
      "image/png": "[encoded data removed]",
      "text/plain": [
       "<matplotlib.figure.Figure at 0x7f4ddf62d6d0>"
      ]
     },
     "metadata": {},
     "output_type": "display_data"
    }
   ],
   "source": [
    "import pandas as pd\n",
    "import matplotlib.pyplot as plt\n",
    "import numpy as np\n",
    "heart_data = pd.read_csv(\"heart_data.csv\")\n",
    "def sigmoid(z):\n",
    "    return 1.0/(1.0+np.exp(-z))\n",
    "z=np.arange(-7,7,0.1)\n",
    "phi_z=sigmoid(z)\n",
    "plt.plot(z,phi_z)\n",
    "plt.axvline(0.0,color='k')\n",
    "plt.axhspan(0.0,1.0,facecolor='1.0',alpha=1.0,ls='dotted')\n",
    "plt.axhline(y=0.5,ls='dotted',color='k')\n",
    "plt.yticks([0.0, 0.5, 1.0])\n",
    "plt.ylim(-0.1, 1.1)\n",
    "plt.xlabel('z')\n",
    "plt.ylabel('$\\phi (z)$')\n",
    "plt.show()"
   ]
  },
  {
   "cell_type": "code",
   "execution_count": 5,
   "metadata": {},
   "outputs": [
    {
     "ename": "NameError",
     "evalue": "name 'train_test_split' is not defined",
     "output_type": "error",
     "traceback": [
      "\u001b[0;31m---------------------------------------------------------------------------\u001b[0m",
      "\u001b[0;31mNameError\u001b[0m                                 Traceback (most recent call last)",
      "\u001b[0;32m<ipython-input-5-cc850fb64e1b>\u001b[0m in \u001b[0;36m<module>\u001b[0;34m()\u001b[0m\n\u001b[1;32m      2\u001b[0m \u001b[0mY\u001b[0m \u001b[0;34m=\u001b[0m \u001b[0mheart_data\u001b[0m\u001b[0;34m.\u001b[0m\u001b[0mvalues\u001b[0m\u001b[0;34m[\u001b[0m\u001b[0;34m:\u001b[0m\u001b[0;34m,\u001b[0m\u001b[0;36m13\u001b[0m\u001b[0;34m]\u001b[0m\u001b[0;34m\u001b[0m\u001b[0m\n\u001b[1;32m      3\u001b[0m \u001b[0;34m\u001b[0m\u001b[0m\n\u001b[0;32m----> 4\u001b[0;31m \u001b[0mX_train\u001b[0m\u001b[0;34m,\u001b[0m \u001b[0mX_test\u001b[0m\u001b[0;34m,\u001b[0m \u001b[0my_train\u001b[0m\u001b[0;34m,\u001b[0m \u001b[0my_test\u001b[0m \u001b[0;34m=\u001b[0m \u001b[0mtrain_test_split\u001b[0m\u001b[0;34m(\u001b[0m \u001b[0mX\u001b[0m\u001b[0;34m,\u001b[0m \u001b[0mY\u001b[0m\u001b[0;34m,\u001b[0m \u001b[0mtest_size\u001b[0m \u001b[0;34m=\u001b[0m \u001b[0;36m0.3\u001b[0m\u001b[0;34m,\u001b[0m \u001b[0mrandom_state\u001b[0m \u001b[0;34m=\u001b[0m \u001b[0;36m100\u001b[0m\u001b[0;34m)\u001b[0m\u001b[0;34m\u001b[0m\u001b[0m\n\u001b[0m\u001b[1;32m      5\u001b[0m \u001b[0;34m\u001b[0m\u001b[0m\n\u001b[1;32m      6\u001b[0m \u001b[0mlr\u001b[0m\u001b[0;34m=\u001b[0m\u001b[0mLogisticRegression\u001b[0m\u001b[0;34m(\u001b[0m\u001b[0mC\u001b[0m\u001b[0;34m=\u001b[0m\u001b[0;36m0.001\u001b[0m\u001b[0;34m,\u001b[0m \u001b[0mrandom_state\u001b[0m\u001b[0;34m=\u001b[0m\u001b[0;36m10\u001b[0m\u001b[0;34m,\u001b[0m \u001b[0mtol\u001b[0m\u001b[0;34m=\u001b[0m\u001b[0;36m0.0001\u001b[0m\u001b[0;34m,\u001b[0m \u001b[0mmax_iter\u001b[0m\u001b[0;34m=\u001b[0m\u001b[0;36m1000\u001b[0m\u001b[0;34m)\u001b[0m\u001b[0;34m\u001b[0m\u001b[0m\n",
      "\u001b[0;31mNameError\u001b[0m: name 'train_test_split' is not defined"
     ]
    }
   ],
   "source": [
    "X = heart_data.values[:, 0:12]\n",
    "Y = heart_data.values[:,13]\n",
    "\n",
    "X_train, X_test, y_train, y_test = train_test_split( X, Y, test_size = 0.3, random_state = 100)\n",
    "\n",
    "lr=LogisticRegression(C=0.001, random_state=10, tol=0.0001, max_iter=1000)\n",
    "lr.fit(X_train.astype(int), y_train.astype(int))\n",
    "\n",
    "#plot_decision_regions(X_train, y_test, clf=lr, res=0.02)\n",
    "#plt.xlabel('petal width [standardized]')\n",
    "#plt.ylabel('petal width [standardized]')\n",
    "#plt.legend(loc='upper left')\n",
    "#plt.show()\n",
    "print(\"Accuracy on training set: {:.3f}\".format(lr.score(X_train.astype(int),y_train.astype(int))))\n",
    "print(\"Accuracy on test set: {:.3f}\".format(lr.score(X_test.astype(int),y_test.astype(int))))"
   ]
  },
  {
   "cell_type": "code",
   "execution_count": 6,
   "metadata": {},
   "outputs": [
    {
     "name": "stdout",
     "output_type": "stream",
     "text": [
      "[[70  1  4 ..., 24  2  3]\n",
      " [67  0  3 ..., 16  2  0]\n",
      " [57  1  2 ...,  3  1  0]\n",
      " ..., \n",
      " [56  0  2 ..., 13  2  0]\n",
      " [57  1  4 ...,  4  2  0]\n",
      " [67  1  4 ..., 15  2  3]]\n"
     ]
    }
   ],
   "source": [
    "print(X)"
   ]
  },
  {
   "cell_type": "code",
   "execution_count": 7,
   "metadata": {},
   "outputs": [
    {
     "name": "stdout",
     "output_type": "stream",
     "text": [
      "[2 1 2 1 1 1 2 2 2 2 1 1 1 2 1 1 2 2 1 1 2 1 1 1 1 1 1 1 2 1 2 1 1 2 2 2 2\n",
      " 2 1 1 2 1 1 1 2 1 2 2 2 2 2 1 1 1 1 1 2 1 2 2 1 2 1 1 1 2 1 2 1 2 2 1 1 1\n",
      " 1 2 1 1 1 1 2 2 2 1 1 1 1 1 1 2 1 2 2 2 2 2 1 2 1 1 1 2 1 2 2 2 1 2 2 1 2\n",
      " 1 2 1 1 1 2 2 1 2 2 2 2 1 1 1 2 1 1 2 2 2 1 2 1 1 1 2 1 1 2 1 2 1 2 2 2 2\n",
      " 2 1 1 1 1 1 1 1 2 1 1 2 2 2 1 2 1 1 1 1 1 2 1 2 2 1 1 2 2 2 2 1 1 2 2 1 1\n",
      " 1 2 1 1 2 1 2 1 2 1 1 1 1 1 2 1 2 2 2 2 1 1 1 2 1 2 1 1 2 1 1 1 1 1 1 2 2\n",
      " 1 2 1 1 2 2 1 1 2 2 1 2 1 2 1 2 1 1 2 1 1 2 1 2 2 1 2 2 2 1 2 1 1 1 1 2 2\n",
      " 1 1 2 2 1 2 1 1 1 1 2]\n"
     ]
    }
   ],
   "source": [
    "print(Y)"
   ]
  },
  {
   "cell_type": "code",
   "execution_count": 8,
   "metadata": {},
   "outputs": [],
   "source": [
    "from sklearn.linear_model import LogisticRegression\n",
    "X = heart_data.values[:, [0,7]]\n",
    "y = heart_data.values[:,13]"
   ]
  },
  {
   "cell_type": "code",
   "execution_count": 9,
   "metadata": {},
   "outputs": [
    {
     "name": "stderr",
     "output_type": "stream",
     "text": [
      "/usr/local/lib/python2.7/dist-packages/sklearn/cross_validation.py:41: DeprecationWarning: This module was deprecated in version 0.18 in favor of the model_selection module into which all the refactored classes and functions are moved. Also note that the interface of the new CV iterators are different from that of this module. This module will be removed in 0.20.\n",
      "  \"This module will be removed in 0.20.\", DeprecationWarning)\n"
     ]
    }
   ],
   "source": [
    "from sklearn.cross_validation import train_test_split\n",
    "\n",
    "X_train, X_test, y_train, y_test = train_test_split(X, y, test_size=0.3, random_state=0)"
   ]
  },
  {
   "cell_type": "code",
   "execution_count": 10,
   "metadata": {},
   "outputs": [
    {
     "name": "stderr",
     "output_type": "stream",
     "text": [
      "/usr/local/lib/python2.7/dist-packages/sklearn/utils/validation.py:475: DataConversionWarning: Data with input dtype int64 was converted to float64 by StandardScaler.\n",
      "  warnings.warn(msg, DataConversionWarning)\n"
     ]
    }
   ],
   "source": [
    "from sklearn.preprocessing import StandardScaler\n",
    "sc = StandardScaler()\n",
    "lr=LogisticRegression(C=0.001, random_state=10, tol=0.0001, max_iter=10)\n",
    "sc.fit(X_train)\n",
    "X_train_std = sc.transform(X_train)\n",
    "X_test_std = sc.transform(X_test)"
   ]
  },
  {
   "cell_type": "code",
   "execution_count": 11,
   "metadata": {},
   "outputs": [],
   "source": [
    "from matplotlib.colors import ListedColormap\n",
    "import matplotlib.pyplot as plt\n",
    "def plot_decision_regions(X, y, classifier,test_idx=None, resolution=0.02):\n",
    "# setup marker generator and color map\n",
    "    markers = ('s', 'x', 'o', '^', 'v')\n",
    "    colors = ('red', 'blue', 'lightgreen', 'gray', 'cyan')\n",
    "    cmap = ListedColormap(colors[:len(np.unique(y))])\n",
    "    # plot the decision surface\n",
    "    x1_min, x1_max = X[:, 0].min() - 1, X[:, 0].max() + 1\n",
    "    x2_min, x2_max = X[:, 1].min() - 1, X[:, 1].max() + 1\n",
    "    xx1, xx2 = np.meshgrid(np.arange(x1_min, x1_max, resolution),\n",
    "    np.arange(x2_min, x2_max, resolution))\n",
    "    Z = classifier.predict(np.array([xx1.ravel(), xx2.ravel()]).T)\n",
    "    Z = Z.reshape(xx1.shape)\n",
    "    plt.contourf(xx1, xx2, Z, alpha=0.4, cmap=cmap)\n",
    "    plt.xlim(xx1.min(), xx1.max())\n",
    "    plt.ylim(xx2.min(), xx2.max())\n",
    "    # plot all samples\n",
    "    X_test, y_test = X[test_idx, :], y[test_idx]\n",
    "    for idx, cl in enumerate(np.unique(y)):\n",
    "        plt.scatter(x=X[y == cl, 0], y=X[y == cl, 1],\n",
    "        alpha=0.8, c=cmap(idx),\n",
    "        marker=markers[idx], label=cl)\n",
    "    # highlight test samples\n",
    "    if test_idx:\n",
    "        X_test, y_test = X[test_idx, :], y[test_idx]\n",
    "        plt.scatter(X_test[:, 0], X_test[:, 1], c='',\n",
    "        alpha=1.0, linewidth=1, marker='o',\n",
    "        s=5500, label='test set')"
   ]
  },
  {
   "cell_type": "code",
   "execution_count": 12,
   "metadata": {},
   "outputs": [
    {
     "data": {
      "image/png": "[encoded data removed]",
      "text/plain": [
       "<matplotlib.figure.Figure at 0x7f4dda8f8a90>"
      ]
     },
     "metadata": {},
     "output_type": "display_data"
    }
   ],
   "source": [
    "X_combined_std = np.vstack((X_train_std, X_test_std))\n",
    "y_combined = np.hstack((y_train, y_test))\n",
    "lr.fit(X_train.astype(int), y_train.astype(int))\n",
    "plot_decision_regions(X_combined_std,y_combined, classifier=lr,test_idx=range(100,210))\n",
    "plt.xlabel('Age')\n",
    "plt.ylabel('SerumCholestoral')\n",
    "plt.legend(loc='upper left')\n",
    "plt.show()"
   ]
  },
  {
   "cell_type": "code",
   "execution_count": 13,
   "metadata": {},
   "outputs": [
    {
     "data": {
      "text/plain": [
       "540"
      ]
     },
     "execution_count": 13,
     "metadata": {},
     "output_type": "execute_result"
    }
   ],
   "source": [
    "(X_combined_std).size"
   ]
  },
  {
   "cell_type": "code",
   "execution_count": 14,
   "metadata": {},
   "outputs": [
    {
     "data": {
      "text/plain": [
       "270"
      ]
     },
     "execution_count": 14,
     "metadata": {},
     "output_type": "execute_result"
    }
   ],
   "source": [
    "(y_combined).size"
   ]
  },
  {
   "cell_type": "code",
   "execution_count": 15,
   "metadata": {},
   "outputs": [
    {
     "data": {
      "text/plain": [
       "array([[ 0.48534984,  0.51465016],\n",
       "       [ 0.51314522,  0.48685478],\n",
       "       [ 0.47759982,  0.52240018],\n",
       "       [ 0.46637705,  0.53362295],\n",
       "       [ 0.49736032,  0.50263968],\n",
       "       [ 0.47656228,  0.52343772],\n",
       "       [ 0.50893632,  0.49106368],\n",
       "       [ 0.5267363 ,  0.4732637 ],\n",
       "       [ 0.4854528 ,  0.5145472 ],\n",
       "       [ 0.46777192,  0.53222808],\n",
       "       [ 0.50160599,  0.49839401],\n",
       "       [ 0.4983919 ,  0.5016081 ],\n",
       "       [ 0.49932857,  0.50067143],\n",
       "       [ 0.48856174,  0.51143826],\n",
       "       [ 0.49432705,  0.50567295],\n",
       "       [ 0.50690834,  0.49309166],\n",
       "       [ 0.49621759,  0.50378241],\n",
       "       [ 0.46701908,  0.53298092],\n",
       "       [ 0.47636474,  0.52363526],\n",
       "       [ 0.51192565,  0.48807435],\n",
       "       [ 0.49713686,  0.50286314],\n",
       "       [ 0.52244083,  0.47755917],\n",
       "       [ 0.48957549,  0.51042451],\n",
       "       [ 0.51196846,  0.48803154],\n",
       "       [ 0.5145879 ,  0.4854121 ],\n",
       "       [ 0.52244083,  0.47755917],\n",
       "       [ 0.50111623,  0.49888377],\n",
       "       [ 0.48425093,  0.51574907],\n",
       "       [ 0.48841592,  0.51158408],\n",
       "       [ 0.46175132,  0.53824868],\n",
       "       [ 0.48106616,  0.51893384],\n",
       "       [ 0.47755706,  0.52244294],\n",
       "       [ 0.48583919,  0.51416081],\n",
       "       [ 0.52333279,  0.47666721],\n",
       "       [ 0.51229478,  0.48770522],\n",
       "       [ 0.47502716,  0.52497284],\n",
       "       [ 0.48972132,  0.51027868],\n",
       "       [ 0.48419078,  0.51580922],\n",
       "       [ 0.51838254,  0.48161746],\n",
       "       [ 0.52021032,  0.47978968],\n",
       "       [ 0.50957175,  0.49042825],\n",
       "       [ 0.5049577 ,  0.4950423 ],\n",
       "       [ 0.50317016,  0.49682984],\n",
       "       [ 0.48746244,  0.51253756],\n",
       "       [ 0.50262021,  0.49737979],\n",
       "       [ 0.48577903,  0.51422097],\n",
       "       [ 0.50121928,  0.49878072],\n",
       "       [ 0.50223351,  0.49776649],\n",
       "       [ 0.47465875,  0.52534125],\n",
       "       [ 0.47784016,  0.52215984],\n",
       "       [ 0.49587375,  0.50412625],\n",
       "       [ 0.49375981,  0.50624019],\n",
       "       [ 0.49209289,  0.50790711],\n",
       "       [ 0.50412414,  0.49587586],\n",
       "       [ 0.48011356,  0.51988644],\n",
       "       [ 0.52233799,  0.47766201],\n",
       "       [ 0.48661203,  0.51338797],\n",
       "       [ 0.49000487,  0.50999513],\n",
       "       [ 0.52061372,  0.47938628],\n",
       "       [ 0.49755829,  0.50244171],\n",
       "       [ 0.49455048,  0.50544952],\n",
       "       [ 0.50780198,  0.49219802],\n",
       "       [ 0.49449028,  0.50550972],\n",
       "       [ 0.51909475,  0.48090525],\n",
       "       [ 0.45829319,  0.54170681],\n",
       "       [ 0.48778875,  0.51221125],\n",
       "       [ 0.47806319,  0.52193681],\n",
       "       [ 0.47544757,  0.52455243],\n",
       "       [ 0.49855515,  0.50144485],\n",
       "       [ 0.5017866 ,  0.4982134 ],\n",
       "       [ 0.50182944,  0.49817056],\n",
       "       [ 0.48250803,  0.51749197],\n",
       "       [ 0.49453312,  0.50546688],\n",
       "       [ 0.47601356,  0.52398644],\n",
       "       [ 0.49998158,  0.50001842],\n",
       "       [ 0.49727463,  0.50272537],\n",
       "       [ 0.49404343,  0.50595657],\n",
       "       [ 0.49973264,  0.50026736],\n",
       "       [ 0.52010744,  0.47989256],\n",
       "       [ 0.47547299,  0.52452701],\n",
       "       [ 0.48912878,  0.51087122]])"
      ]
     },
     "execution_count": 15,
     "metadata": {},
     "output_type": "execute_result"
    }
   ],
   "source": [
    "lr.predict_proba(X_test_std[:,:])"
   ]
  },
  {
   "cell_type": "code",
   "execution_count": null,
   "metadata": {
    "collapsed": true
   },
   "outputs": [],
   "source": []
  }
 ],
 "metadata": {
  "kernelspec": {
   "display_name": "Python 3",
   "language": "python",
   "name": "python3"
  },
  "language_info": {
   "codemirror_mode": {
    "name": "ipython",
    "version": 2
   },
   "file_extension": ".py",
   "mimetype": "text/x-python",
   "name": "python",
   "nbconvert_exporter": "python",
   "pygments_lexer": "ipython2",
   "version": "2.7.12"
  }
 },
 "nbformat": 4,
 "nbformat_minor": 2
}
